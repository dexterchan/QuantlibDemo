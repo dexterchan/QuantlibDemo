{
 "cells": [
  {
   "cell_type": "code",
   "execution_count": 1,
   "metadata": {},
   "outputs": [],
   "source": [
    "from QuantLib import *\n",
    "import datetime\n",
    "import numpy as np\n",
    "import matplotlib.pyplot as plt\n"
   ]
  },
  {
   "cell_type": "code",
   "execution_count": 2,
   "metadata": {},
   "outputs": [],
   "source": [
    "# global data\n",
    "# Here enter the Yield Curve reference Data\n",
    "calendar = TARGET()\n",
    "todaysDate = Date(28,February,2014);\n",
    "Settings.instance().evaluationDate = todaysDate\n",
    "settlementDate = Date(4,March,2014);"
   ]
  },
  {
   "cell_type": "code",
   "execution_count": 3,
   "metadata": {},
   "outputs": [],
   "source": [
    "\n",
    "# market quotes\n",
    "# Update deposit Rates ( usual source will be LIBOR Fixings on the Curve Date\n",
    "deposits = { (1,Weeks): 0.0023,\n",
    "             (1,Months): 0.0023,\n",
    "             (3,Months): 0.0023,\n",
    "             (6,Months): 0.0023}\n",
    "# Obtain Futures prices from CME traded Euro Dollar Futures\n",
    "futures = { Date(19,3,2014): 99.765,\n",
    "            Date(18,6,2014): 99.75,\n",
    "            Date(17,9,2014): 99.73,\n",
    "            Date(17,12,2014): 99.69,\n",
    "            Date(18,3,2015): 99.605,\n",
    "            Date(17,6,2015): 99.47,\n",
    "            Date(16,9,2015): 99.3,\n",
    "            Date(16,12,2015): 99.085 }\n",
    "# Obtain Swap rates from Traded Swaps on the Curve data\n",
    "swaps = { (3,Years): 0.0079,\n",
    "          (4,Years): 0.012,\n",
    "          (5,Years): 0.0157,\n",
    "          (6,Years): 0.01865,\n",
    "          (7,Years): 0.0216,\n",
    "          (8,Years): 0.0235,\n",
    "          (9,Years): 0.0254,\n",
    "          (10,Years): 0.0273,\n",
    "          (15,Years): 0.0297,\n",
    "          (20,Years): 0.0316,\n",
    "          (25,Years): 0.0335,\n",
    "          (30,Years): 0.0354}"
   ]
  },
  {
   "cell_type": "code",
   "execution_count": 4,
   "metadata": {},
   "outputs": [],
   "source": [
    "# convert them to Quote objects\n",
    "for n,unit in deposits.keys():\n",
    "    deposits[(n,unit)] = SimpleQuote(deposits[(n,unit)])\n",
    "for d in futures.keys():\n",
    "    futures[d] = SimpleQuote(futures[d])\n",
    "for n,unit in swaps.keys():\n",
    "    swaps[(n,unit)] = SimpleQuote(swaps[(n,unit)])"
   ]
  },
  {
   "cell_type": "code",
   "execution_count": 5,
   "metadata": {},
   "outputs": [],
   "source": [
    "# build rate helpers\n",
    "\n",
    "dayCounter = Actual360()\n",
    "settlementDays = 2\n",
    "depositHelpers = [ DepositRateHelper(QuoteHandle(deposits[(n,unit)]),\n",
    "                                     Period(n,unit), settlementDays,\n",
    "                                     calendar, ModifiedFollowing,\n",
    "                                     False, dayCounter)\n",
    "                   for n, unit in [(1,Weeks),(1,Months),(3,Months),\n",
    "                                   (6,Months)] ]\n",
    "\n",
    "dayCounter = Actual360()\n",
    "months = 3\n",
    "futuresHelpers = [ FuturesRateHelper(QuoteHandle(futures[d]),\n",
    "                                     d, months,\n",
    "                                     calendar, ModifiedFollowing,\n",
    "                                     True, dayCounter,\n",
    "                                     QuoteHandle(SimpleQuote(0.0)))\n",
    "                   for d in futures.keys() ]\n",
    "\n",
    "settlementDays = 2\n",
    "fixedLegFrequency = Semiannual\n",
    "fixedLegTenor = Period(6,Months)\n",
    "fixedLegAdjustment = Unadjusted\n",
    "fixedLegDayCounter = Thirty360()\n",
    "floatingLegFrequency = Quarterly\n",
    "floatingLegTenor = Period(3,Months)\n",
    "floatingLegAdjustment = ModifiedFollowing\n",
    "swapHelpers = [ SwapRateHelper(QuoteHandle(swaps[(n,unit)]),\n",
    "                               Period(n,unit), calendar,\n",
    "                               fixedLegFrequency, fixedLegAdjustment,\n",
    "                               fixedLegDayCounter, Euribor3M())\n",
    "                for n, unit in swaps.keys() ]"
   ]
  },
  {
   "cell_type": "code",
   "execution_count": 6,
   "metadata": {},
   "outputs": [],
   "source": [
    "# term structure handles\n",
    "\n",
    "discountTermStructure = RelinkableYieldTermStructureHandle()\n",
    "forecastTermStructure = RelinkableYieldTermStructureHandle()\n",
    "\n",
    "# term-structure construction\n",
    "\n",
    "helpers = depositHelpers[:2] + futuresHelpers + swapHelpers[1:]\n",
    "depoFuturesSwapCurve = PiecewiseFlatForward(settlementDate, helpers,\n",
    "                                            Actual360())\n",
    "#print (depoFuturesSwapCurve.dates())\n",
    "df=[]\n",
    "dates1=[]\n",
    "for c in depoFuturesSwapCurve.dates():\n",
    "    df.append(depoFuturesSwapCurve.discount(c))\n",
    "    dates1.append(c)\n",
    "    #print (depoFuturesSwapCurve.discount(c))\n",
    "termStructure = YieldTermStructureHandle(depoFuturesSwapCurve)"
   ]
  },
  {
   "cell_type": "code",
   "execution_count": 7,
   "metadata": {},
   "outputs": [],
   "source": [
    "\n",
    "#End of Yield Curve Construction\n",
    "\n",
    "#Begin building forward Curve\n",
    "\n",
    "# Forward swap underlying the Swaption to be priced\n",
    "# In this case I am pricing a 5y into 5Y swap\n",
    "swapEngine = DiscountingSwapEngine(discountTermStructure)\n",
    "\n",
    "nominal = 1000000\n",
    "length = 5\n",
    "maturity = calendar.advance(settlementDate,length,Years)\n",
    "payFixed = True\n",
    "\n",
    "fixedLegFrequency = Semiannual\n",
    "fixedLegAdjustment = Unadjusted\n",
    "fixedLegDayCounter = Thirty360()\n",
    "\n",
    "floatingLegFrequency = Quarterly\n",
    "spread = 0.0\n",
    "fixingDays = 2\n",
    "index = Euribor3M(forecastTermStructure)\n",
    "floatingLegAdjustment = ModifiedFollowing\n",
    "floatingLegDayCounter = index.dayCounter()\n"
   ]
  },
  {
   "cell_type": "code",
   "execution_count": 8,
   "metadata": {},
   "outputs": [],
   "source": [
    "#ATM forward Rate\n",
    "fixedRate = 0.040852\n",
    "\n",
    "forwardStart = calendar.advance(settlementDate,5,Years)\n",
    "forwardEnd = calendar.advance(forwardStart,length,Years)\n",
    "fixedSchedule = Schedule(forwardStart, forwardEnd,\n",
    "                         fixedLegTenor, calendar,\n",
    "                         fixedLegAdjustment, fixedLegAdjustment,\n",
    "                         DateGeneration.Forward, False)\n",
    "floatingSchedule = Schedule(forwardStart, forwardEnd,\n",
    "                            floatingLegTenor, calendar,\n",
    "                            floatingLegAdjustment, floatingLegAdjustment,\n",
    "                            DateGeneration.Forward, False)\n",
    "\n",
    "forward = VanillaSwap(VanillaSwap.Payer, nominal,\n",
    "                      fixedSchedule, fixedRate, fixedLegDayCounter,\n",
    "                      floatingSchedule, index, spread,\n",
    "                      floatingLegDayCounter)\n",
    "forward.setPricingEngine(swapEngine)"
   ]
  },
  {
   "cell_type": "code",
   "execution_count": 9,
   "metadata": {},
   "outputs": [
    {
     "name": "stdout",
     "output_type": "stream",
     "text": [
      "==================================================================\n",
      "5-year market Spot swap-rate = 1.57 %\n",
      "==================================================================\n",
      " depo-fut-swap |            -45.25 |    0.0011 % |        4.0841 %\n"
     ]
    }
   ],
   "source": [
    "def formatPrice(p,digits=2):\n",
    "    format = '%%.%df' % digits\n",
    "    return format % p\n",
    "\n",
    "def formatRate(r,digits=2):\n",
    "    format = '%%.%df %%%%' % digits\n",
    "    return format % (r*100)\n",
    "\n",
    "headers = (\"term structure\", \"net present value\",\n",
    "           \"fair spread\", \"fair fixed rate\" )\n",
    "separator = \" | \"\n",
    "\n",
    "format = ''\n",
    "width = 0\n",
    "for h in headers[:-1]:\n",
    "    format += '%%%ds' % len(h)\n",
    "    format += separator\n",
    "    width += len(h) + len(separator)\n",
    "format += '%%%ds' % len(headers[-1])\n",
    "width += len(headers[-1])\n",
    "\n",
    "rule = \"-\" * width\n",
    "dblrule = \"=\" * width\n",
    "tab = \" \" * 8\n",
    "\n",
    "\n",
    "def report(swap, name):\n",
    "    print (format % (name, formatPrice(swap.NPV(),2),\n",
    "                    formatRate(swap.fairSpread(),4),\n",
    "                    formatRate(swap.fairRate(),4)))\n",
    "\n",
    "print (dblrule)\n",
    "print (\"5-year market Spot swap-rate = %s\" % formatRate(swaps[(5,Years)].value()))\n",
    "print (dblrule)\n",
    "\n",
    "discountTermStructure.linkTo(depoFuturesSwapCurve)\n",
    "forecastTermStructure.linkTo(depoFuturesSwapCurve)\n",
    "report(forward,'depo-fut-swap')"
   ]
  },
  {
   "cell_type": "code",
   "execution_count": 10,
   "metadata": {},
   "outputs": [
    {
     "name": "stdout",
     "output_type": "stream",
     "text": [
      "23134.40637208518\n"
     ]
    }
   ],
   "source": [
    "##############################################\n",
    "# Bulding the European Swaption pricer part\n",
    "\n",
    "exercise = maturity\n",
    "exercised = EuropeanExercise(exercise)\n",
    "settlementtype=\"physical\"\n",
    "atmswaption = Swaption(forward,exercised)\n",
    "#Applying a 15.3% implied volatility to 5y into 5y ATM swaption\n",
    "vol1  = QuoteHandle(SimpleQuote(0.1533))\n",
    "atmswaption.setPricingEngine(BlackSwaptionEngine(termStructure,vol1))\n",
    "print (atmswaption.NPV())"
   ]
  },
  {
   "cell_type": "code",
   "execution_count": 11,
   "metadata": {},
   "outputs": [
    {
     "name": "stdout",
     "output_type": "stream",
     "text": [
      "(Period(\"5Y\"), Period(\"5Y\"), 0.1533)\n",
      "0.023150444670187967\n",
      "0.40926904416494736\n"
     ]
    }
   ],
   "source": [
    "#*****************************\n",
    "#Now given Market Premium implying the underlying volatility\n",
    "\n",
    "index = Euribor3M(termStructure)\n",
    "#Place holder for the iterator to hold the implied volatility in the\n",
    "#swaption Helper\n",
    "swaptionVols = [ # maturity,          length,             volatility\n",
    "                 (Period(5, Years), Period(5, Years), 0.1533)]\n",
    "\n",
    "helpers = [ SwaptionHelper(maturity, length,\n",
    "                           QuoteHandle(SimpleQuote(vol)),\n",
    "                           index, index.tenor(), index.dayCounter(),\n",
    "                           index.dayCounter(), termStructure)\n",
    "                    for maturity, length, vol in swaptionVols ]\n",
    "\n",
    "for swaption, helper in zip(swaptionVols, helpers):\n",
    "        maturity, length, vol = swaption\n",
    "        print (swaption)\n",
    "        helper.setPricingEngine(BlackSwaptionEngine(termStructure,vol1))\n",
    "        NPV = helper.modelValue()\n",
    "        print (NPV)\n",
    "        NPV=0.06   # here we are adding a premium of 60,000 per 1 MM Notional\n",
    "        implied = helper.impliedVolatility(NPV, 1.0e-4, 1000, 0.05, 0.50)\n",
    "        print (implied)"
   ]
  },
  {
   "cell_type": "code",
   "execution_count": null,
   "metadata": {},
   "outputs": [],
   "source": []
  }
 ],
 "metadata": {
  "kernelspec": {
   "display_name": "Python 3",
   "language": "python",
   "name": "python3"
  },
  "language_info": {
   "codemirror_mode": {
    "name": "ipython",
    "version": 3
   },
   "file_extension": ".py",
   "mimetype": "text/x-python",
   "name": "python",
   "nbconvert_exporter": "python",
   "pygments_lexer": "ipython3",
   "version": "3.8.5"
  }
 },
 "nbformat": 4,
 "nbformat_minor": 4
}
